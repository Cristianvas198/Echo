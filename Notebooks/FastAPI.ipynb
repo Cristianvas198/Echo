{
 "cells": [
  {
   "cell_type": "markdown",
   "metadata": {},
   "source": [
    "#   FastAPI"
   ]
  },
  {
   "cell_type": "code",
   "execution_count": null,
   "metadata": {},
   "outputs": [],
   "source": [
    "from fastapi import FastAPI\n",
    "import google.generativeai as genai\n",
    "import os\n",
    "from dotenv import load_dotenv"
   ]
  },
  {
   "cell_type": "code",
   "execution_count": null,
   "metadata": {},
   "outputs": [],
   "source": [
    "# Crear la aplicación FastAPI\n",
    "app = FastAPI()\n",
    "\n",
    "@app.get(\"/\")\n",
    "def landing():\n",
    "    return {\"message\": \"Bienvenido a la API de chat con Gemini\"}\n",
    "\n",
    "@app.get(\"/chat\")\n",
    "def chat(prompt: str):\n",
    "    response = model.generate_content(prompt)\n",
    "    return {\"response\": f\"**Respuesta:**\\n\\n{response.text}\"}\n",
    "\n",
    "\n",
    "@app.get(\"/email\")\n",
    "def generate_email(subject: str, details: str):\n",
    "    prompt = f\"\"\"Genera un email profesional sobre '{subject}', incluyendo estos detalles: {details}. \n",
    "    Usa un tono formal y estructurado.\"\"\"\n",
    "    \n",
    "    response = model.generate_content(prompt)\n",
    "    return {\"email\": response.text}\n",
    "\n",
    "@app.get(\"/resumen\")\n",
    "def generate_summary(text: str):\n",
    "    prompt = f\"\"\"Resume el siguiente texto en 3 párrafos clave: {text}\"\"\"\n",
    "    \n",
    "    response = model.generate_content(prompt)\n",
    "    return {\"summary\": response.text}"
   ]
  }
 ],
 "metadata": {
  "kernelspec": {
   "display_name": ".venv",
   "language": "python",
   "name": "python3"
  },
  "language_info": {
   "codemirror_mode": {
    "name": "ipython",
    "version": 3
   },
   "file_extension": ".py",
   "mimetype": "text/x-python",
   "name": "python",
   "nbconvert_exporter": "python",
   "pygments_lexer": "ipython3",
   "version": "3.9.6"
  }
 },
 "nbformat": 4,
 "nbformat_minor": 2
}
